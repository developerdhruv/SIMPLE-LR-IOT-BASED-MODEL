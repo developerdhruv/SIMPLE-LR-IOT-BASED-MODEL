{
 "cells": [
  {
   "cell_type": "code",
   "execution_count": 1,
   "id": "c1d053f9",
   "metadata": {},
   "outputs": [
    {
     "name": "stdout",
     "output_type": "stream",
     "text": [
      "Collecting yfinance\n",
      "  Obtaining dependency information for yfinance from https://files.pythonhosted.org/packages/1b/0f/77716aa9dd84bb1aa5e93c87122af1de89697b6231f6d01d58d4e7c03c14/yfinance-0.2.36-py2.py3-none-any.whl.metadata\n",
      "  Downloading yfinance-0.2.36-py2.py3-none-any.whl.metadata (11 kB)\n",
      "Requirement already satisfied: pandas>=1.3.0 in c:\\users\\dhruv\\anaconda3\\lib\\site-packages (from yfinance) (2.0.3)\n",
      "Requirement already satisfied: numpy>=1.16.5 in c:\\users\\dhruv\\anaconda3\\lib\\site-packages (from yfinance) (1.24.3)\n",
      "Requirement already satisfied: requests>=2.31 in c:\\users\\dhruv\\anaconda3\\lib\\site-packages (from yfinance) (2.31.0)\n",
      "Collecting multitasking>=0.0.7 (from yfinance)\n",
      "  Downloading multitasking-0.0.11-py3-none-any.whl (8.5 kB)\n",
      "Requirement already satisfied: lxml>=4.9.1 in c:\\users\\dhruv\\anaconda3\\lib\\site-packages (from yfinance) (4.9.3)\n",
      "Requirement already satisfied: appdirs>=1.4.4 in c:\\users\\dhruv\\anaconda3\\lib\\site-packages (from yfinance) (1.4.4)\n",
      "Requirement already satisfied: pytz>=2022.5 in c:\\users\\dhruv\\anaconda3\\lib\\site-packages (from yfinance) (2023.3.post1)\n",
      "Collecting frozendict>=2.3.4 (from yfinance)\n",
      "  Downloading frozendict-2.4.0.tar.gz (314 kB)\n",
      "     ---------------------------------------- 0.0/314.6 kB ? eta -:--:--\n",
      "     - -------------------------------------- 10.2/314.6 kB ? eta -:--:--\n",
      "     -------------- ----------------------- 122.9/314.6 kB 2.4 MB/s eta 0:00:01\n",
      "     -------------------------------------- 314.6/314.6 kB 3.9 MB/s eta 0:00:00\n",
      "  Installing build dependencies: started\n",
      "  Installing build dependencies: finished with status 'done'\n",
      "  Getting requirements to build wheel: started\n",
      "  Getting requirements to build wheel: finished with status 'done'\n",
      "  Preparing metadata (pyproject.toml): started\n",
      "  Preparing metadata (pyproject.toml): finished with status 'done'\n",
      "Collecting peewee>=3.16.2 (from yfinance)\n",
      "  Downloading peewee-3.17.1.tar.gz (3.0 MB)\n",
      "     ---------------------------------------- 0.0/3.0 MB ? eta -:--:--\n",
      "     --------- ------------------------------ 0.7/3.0 MB 15.5 MB/s eta 0:00:01\n",
      "     -------------------- ------------------- 1.5/3.0 MB 15.8 MB/s eta 0:00:01\n",
      "     ------------------------------------- -- 2.8/3.0 MB 19.8 MB/s eta 0:00:01\n",
      "     ---------------------------------------  2.9/3.0 MB 20.8 MB/s eta 0:00:01\n",
      "     ---------------------------------------- 3.0/3.0 MB 15.7 MB/s eta 0:00:00\n",
      "  Installing build dependencies: started\n",
      "  Installing build dependencies: finished with status 'done'\n",
      "  Getting requirements to build wheel: started\n",
      "  Getting requirements to build wheel: finished with status 'done'\n",
      "  Preparing metadata (pyproject.toml): started\n",
      "  Preparing metadata (pyproject.toml): finished with status 'done'\n",
      "Requirement already satisfied: beautifulsoup4>=4.11.1 in c:\\users\\dhruv\\anaconda3\\lib\\site-packages (from yfinance) (4.12.2)\n",
      "Collecting html5lib>=1.1 (from yfinance)\n",
      "  Downloading html5lib-1.1-py2.py3-none-any.whl (112 kB)\n",
      "     ---------------------------------------- 0.0/112.2 kB ? eta -:--:--\n",
      "     -------------------------------------- 112.2/112.2 kB 6.4 MB/s eta 0:00:00\n",
      "Requirement already satisfied: soupsieve>1.2 in c:\\users\\dhruv\\anaconda3\\lib\\site-packages (from beautifulsoup4>=4.11.1->yfinance) (2.4)\n",
      "Requirement already satisfied: six>=1.9 in c:\\users\\dhruv\\appdata\\roaming\\python\\python311\\site-packages (from html5lib>=1.1->yfinance) (1.16.0)\n",
      "Requirement already satisfied: webencodings in c:\\users\\dhruv\\anaconda3\\lib\\site-packages (from html5lib>=1.1->yfinance) (0.5.1)\n",
      "Requirement already satisfied: python-dateutil>=2.8.2 in c:\\users\\dhruv\\appdata\\roaming\\python\\python311\\site-packages (from pandas>=1.3.0->yfinance) (2.8.2)\n",
      "Requirement already satisfied: tzdata>=2022.1 in c:\\users\\dhruv\\anaconda3\\lib\\site-packages (from pandas>=1.3.0->yfinance) (2023.3)\n",
      "Requirement already satisfied: charset-normalizer<4,>=2 in c:\\users\\dhruv\\anaconda3\\lib\\site-packages (from requests>=2.31->yfinance) (2.0.4)\n",
      "Requirement already satisfied: idna<4,>=2.5 in c:\\users\\dhruv\\anaconda3\\lib\\site-packages (from requests>=2.31->yfinance) (3.4)\n",
      "Requirement already satisfied: urllib3<3,>=1.21.1 in c:\\users\\dhruv\\anaconda3\\lib\\site-packages (from requests>=2.31->yfinance) (1.26.16)\n",
      "Requirement already satisfied: certifi>=2017.4.17 in c:\\users\\dhruv\\anaconda3\\lib\\site-packages (from requests>=2.31->yfinance) (2023.7.22)\n",
      "Downloading yfinance-0.2.36-py2.py3-none-any.whl (72 kB)\n",
      "   ---------------------------------------- 0.0/72.4 kB ? eta -:--:--\n",
      "   ---------------------------------------- 72.4/72.4 kB 3.9 MB/s eta 0:00:00\n",
      "Building wheels for collected packages: frozendict, peewee\n",
      "  Building wheel for frozendict (pyproject.toml): started\n",
      "  Building wheel for frozendict (pyproject.toml): finished with status 'done'\n",
      "  Created wheel for frozendict: filename=frozendict-2.4.0-py3-none-any.whl size=15471 sha256=a3805271476d7483e42d47bbf90db961fcda5a1a16a44cc50dd2e95b79bbd92a\n",
      "  Stored in directory: c:\\users\\dhruv\\appdata\\local\\pip\\cache\\wheels\\31\\dd\\81\\a814e6f8cde8a1bbc1f088fdc273943371f10478b91a605e14\n",
      "  Building wheel for peewee (pyproject.toml): started\n",
      "  Building wheel for peewee (pyproject.toml): finished with status 'done'\n",
      "  Created wheel for peewee: filename=peewee-3.17.1-py3-none-any.whl size=136948 sha256=59a3a09dca76ed88aba779fa4835176cfae082780d6b6818eae103fe2ed1b1e4\n",
      "  Stored in directory: c:\\users\\dhruv\\appdata\\local\\pip\\cache\\wheels\\33\\d2\\ca\\79b9807826bc7ef0b86a1ee28c372daaf073f9aa8756eedd7f\n",
      "Successfully built frozendict peewee\n",
      "Installing collected packages: peewee, multitasking, html5lib, frozendict, yfinance\n",
      "Successfully installed frozendict-2.4.0 html5lib-1.1 multitasking-0.0.11 peewee-3.17.1 yfinance-0.2.36\n"
     ]
    }
   ],
   "source": [
    "!pip install yfinance\n"
   ]
  },
  {
   "cell_type": "code",
   "execution_count": 3,
   "id": "7b5f7116",
   "metadata": {},
   "outputs": [],
   "source": [
    "import numpy as np\n",
    "import pandas as pd\n",
    "import seaborn as sns\n",
    "import matplotlib.pyplot as plt\n",
    "import yfinance as yf"
   ]
  },
  {
   "cell_type": "code",
   "execution_count": 10,
   "id": "071b4553",
   "metadata": {},
   "outputs": [
    {
     "name": "stdout",
     "output_type": "stream",
     "text": [
      "Enter code ^NSEI\n"
     ]
    },
    {
     "name": "stderr",
     "output_type": "stream",
     "text": [
      "[*********************100%%**********************]  1 of 1 completed\n"
     ]
    },
    {
     "data": {
      "text/html": [
       "<div>\n",
       "<style scoped>\n",
       "    .dataframe tbody tr th:only-of-type {\n",
       "        vertical-align: middle;\n",
       "    }\n",
       "\n",
       "    .dataframe tbody tr th {\n",
       "        vertical-align: top;\n",
       "    }\n",
       "\n",
       "    .dataframe thead th {\n",
       "        text-align: right;\n",
       "    }\n",
       "</style>\n",
       "<table border=\"1\" class=\"dataframe\">\n",
       "  <thead>\n",
       "    <tr style=\"text-align: right;\">\n",
       "      <th></th>\n",
       "      <th>Open</th>\n",
       "      <th>High</th>\n",
       "      <th>Low</th>\n",
       "      <th>Close</th>\n",
       "      <th>Adj Close</th>\n",
       "      <th>Volume</th>\n",
       "    </tr>\n",
       "    <tr>\n",
       "      <th>Date</th>\n",
       "      <th></th>\n",
       "      <th></th>\n",
       "      <th></th>\n",
       "      <th></th>\n",
       "      <th></th>\n",
       "      <th></th>\n",
       "    </tr>\n",
       "  </thead>\n",
       "  <tbody>\n",
       "    <tr>\n",
       "      <th>2010-01-04</th>\n",
       "      <td>5200.899902</td>\n",
       "      <td>5238.450195</td>\n",
       "      <td>5167.100098</td>\n",
       "      <td>5232.200195</td>\n",
       "      <td>5232.200195</td>\n",
       "      <td>0</td>\n",
       "    </tr>\n",
       "    <tr>\n",
       "      <th>2010-01-05</th>\n",
       "      <td>5277.149902</td>\n",
       "      <td>5288.350098</td>\n",
       "      <td>5242.399902</td>\n",
       "      <td>5277.899902</td>\n",
       "      <td>5277.899902</td>\n",
       "      <td>0</td>\n",
       "    </tr>\n",
       "    <tr>\n",
       "      <th>2010-01-06</th>\n",
       "      <td>5278.149902</td>\n",
       "      <td>5310.850098</td>\n",
       "      <td>5260.049805</td>\n",
       "      <td>5281.799805</td>\n",
       "      <td>5281.799805</td>\n",
       "      <td>0</td>\n",
       "    </tr>\n",
       "    <tr>\n",
       "      <th>2010-01-07</th>\n",
       "      <td>5281.799805</td>\n",
       "      <td>5302.549805</td>\n",
       "      <td>5244.750000</td>\n",
       "      <td>5263.100098</td>\n",
       "      <td>5263.100098</td>\n",
       "      <td>0</td>\n",
       "    </tr>\n",
       "    <tr>\n",
       "      <th>2010-01-08</th>\n",
       "      <td>5264.250000</td>\n",
       "      <td>5276.750000</td>\n",
       "      <td>5234.700195</td>\n",
       "      <td>5244.750000</td>\n",
       "      <td>5244.750000</td>\n",
       "      <td>0</td>\n",
       "    </tr>\n",
       "  </tbody>\n",
       "</table>\n",
       "</div>"
      ],
      "text/plain": [
       "                   Open         High          Low        Close    Adj Close  \\\n",
       "Date                                                                          \n",
       "2010-01-04  5200.899902  5238.450195  5167.100098  5232.200195  5232.200195   \n",
       "2010-01-05  5277.149902  5288.350098  5242.399902  5277.899902  5277.899902   \n",
       "2010-01-06  5278.149902  5310.850098  5260.049805  5281.799805  5281.799805   \n",
       "2010-01-07  5281.799805  5302.549805  5244.750000  5263.100098  5263.100098   \n",
       "2010-01-08  5264.250000  5276.750000  5234.700195  5244.750000  5244.750000   \n",
       "\n",
       "            Volume  \n",
       "Date                \n",
       "2010-01-04       0  \n",
       "2010-01-05       0  \n",
       "2010-01-06       0  \n",
       "2010-01-07       0  \n",
       "2010-01-08       0  "
      ]
     },
     "execution_count": 10,
     "metadata": {},
     "output_type": "execute_result"
    }
   ],
   "source": [
    "stocks = input(\"Enter code \")\n",
    "data = yf.download(stocks,\"2010-01-01\", \"2024-01-01\" )\n",
    "data.head()\n"
   ]
  },
  {
   "cell_type": "code",
   "execution_count": 11,
   "id": "15a5514d",
   "metadata": {},
   "outputs": [
    {
     "data": {
      "text/plain": [
       "(3434, 6)"
      ]
     },
     "execution_count": 11,
     "metadata": {},
     "output_type": "execute_result"
    }
   ],
   "source": [
    "data.shape"
   ]
  },
  {
   "cell_type": "code",
   "execution_count": 12,
   "id": "96b6d0ed",
   "metadata": {},
   "outputs": [
    {
     "name": "stdout",
     "output_type": "stream",
     "text": [
      "<class 'pandas.core.frame.DataFrame'>\n",
      "DatetimeIndex: 3434 entries, 2010-01-04 to 2023-12-29\n",
      "Data columns (total 6 columns):\n",
      " #   Column     Non-Null Count  Dtype  \n",
      "---  ------     --------------  -----  \n",
      " 0   Open       3434 non-null   float64\n",
      " 1   High       3434 non-null   float64\n",
      " 2   Low        3434 non-null   float64\n",
      " 3   Close      3434 non-null   float64\n",
      " 4   Adj Close  3434 non-null   float64\n",
      " 5   Volume     3434 non-null   int64  \n",
      "dtypes: float64(5), int64(1)\n",
      "memory usage: 187.8 KB\n"
     ]
    }
   ],
   "source": [
    "data.info()"
   ]
  },
  {
   "cell_type": "code",
   "execution_count": 13,
   "id": "ec74ff7f",
   "metadata": {},
   "outputs": [
    {
     "data": {
      "text/html": [
       "<div>\n",
       "<style scoped>\n",
       "    .dataframe tbody tr th:only-of-type {\n",
       "        vertical-align: middle;\n",
       "    }\n",
       "\n",
       "    .dataframe tbody tr th {\n",
       "        vertical-align: top;\n",
       "    }\n",
       "\n",
       "    .dataframe thead th {\n",
       "        text-align: right;\n",
       "    }\n",
       "</style>\n",
       "<table border=\"1\" class=\"dataframe\">\n",
       "  <thead>\n",
       "    <tr style=\"text-align: right;\">\n",
       "      <th></th>\n",
       "      <th>Open</th>\n",
       "      <th>High</th>\n",
       "      <th>Low</th>\n",
       "      <th>Close</th>\n",
       "      <th>Adj Close</th>\n",
       "      <th>Volume</th>\n",
       "    </tr>\n",
       "  </thead>\n",
       "  <tbody>\n",
       "    <tr>\n",
       "      <th>count</th>\n",
       "      <td>3434.000000</td>\n",
       "      <td>3434.000000</td>\n",
       "      <td>3434.000000</td>\n",
       "      <td>3434.000000</td>\n",
       "      <td>3434.000000</td>\n",
       "      <td>3.434000e+03</td>\n",
       "    </tr>\n",
       "    <tr>\n",
       "      <th>mean</th>\n",
       "      <td>10087.024754</td>\n",
       "      <td>10136.652461</td>\n",
       "      <td>10020.775572</td>\n",
       "      <td>10080.008538</td>\n",
       "      <td>10080.008538</td>\n",
       "      <td>2.308173e+05</td>\n",
       "    </tr>\n",
       "    <tr>\n",
       "      <th>std</th>\n",
       "      <td>4431.644957</td>\n",
       "      <td>4445.667086</td>\n",
       "      <td>4409.585910</td>\n",
       "      <td>4429.532530</td>\n",
       "      <td>4429.532530</td>\n",
       "      <td>2.106818e+05</td>\n",
       "    </tr>\n",
       "    <tr>\n",
       "      <th>min</th>\n",
       "      <td>4623.149902</td>\n",
       "      <td>4623.149902</td>\n",
       "      <td>4531.149902</td>\n",
       "      <td>4544.200195</td>\n",
       "      <td>4544.200195</td>\n",
       "      <td>0.000000e+00</td>\n",
       "    </tr>\n",
       "    <tr>\n",
       "      <th>25%</th>\n",
       "      <td>6025.737671</td>\n",
       "      <td>6056.062622</td>\n",
       "      <td>5981.587402</td>\n",
       "      <td>6013.524902</td>\n",
       "      <td>6013.524902</td>\n",
       "      <td>1.168000e+05</td>\n",
       "    </tr>\n",
       "    <tr>\n",
       "      <th>50%</th>\n",
       "      <td>8791.500000</td>\n",
       "      <td>8821.750000</td>\n",
       "      <td>8730.525391</td>\n",
       "      <td>8775.275391</td>\n",
       "      <td>8775.275391</td>\n",
       "      <td>1.928500e+05</td>\n",
       "    </tr>\n",
       "    <tr>\n",
       "      <th>75%</th>\n",
       "      <td>11934.837891</td>\n",
       "      <td>11977.975098</td>\n",
       "      <td>11861.275391</td>\n",
       "      <td>11920.425049</td>\n",
       "      <td>11920.425049</td>\n",
       "      <td>2.955000e+05</td>\n",
       "    </tr>\n",
       "    <tr>\n",
       "      <th>max</th>\n",
       "      <td>21737.650391</td>\n",
       "      <td>21801.449219</td>\n",
       "      <td>21678.000000</td>\n",
       "      <td>21778.699219</td>\n",
       "      <td>21778.699219</td>\n",
       "      <td>1.811000e+06</td>\n",
       "    </tr>\n",
       "  </tbody>\n",
       "</table>\n",
       "</div>"
      ],
      "text/plain": [
       "               Open          High           Low         Close     Adj Close  \\\n",
       "count   3434.000000   3434.000000   3434.000000   3434.000000   3434.000000   \n",
       "mean   10087.024754  10136.652461  10020.775572  10080.008538  10080.008538   \n",
       "std     4431.644957   4445.667086   4409.585910   4429.532530   4429.532530   \n",
       "min     4623.149902   4623.149902   4531.149902   4544.200195   4544.200195   \n",
       "25%     6025.737671   6056.062622   5981.587402   6013.524902   6013.524902   \n",
       "50%     8791.500000   8821.750000   8730.525391   8775.275391   8775.275391   \n",
       "75%    11934.837891  11977.975098  11861.275391  11920.425049  11920.425049   \n",
       "max    21737.650391  21801.449219  21678.000000  21778.699219  21778.699219   \n",
       "\n",
       "             Volume  \n",
       "count  3.434000e+03  \n",
       "mean   2.308173e+05  \n",
       "std    2.106818e+05  \n",
       "min    0.000000e+00  \n",
       "25%    1.168000e+05  \n",
       "50%    1.928500e+05  \n",
       "75%    2.955000e+05  \n",
       "max    1.811000e+06  "
      ]
     },
     "execution_count": 13,
     "metadata": {},
     "output_type": "execute_result"
    }
   ],
   "source": [
    "data.describe()"
   ]
  },
  {
   "cell_type": "code",
   "execution_count": 18,
   "id": "8a0afefe",
   "metadata": {},
   "outputs": [
    {
     "data": {
      "image/png": "[encoded data removed]",
      "text/plain": [
       "<Figure size 1000x700 with 1 Axes>"
      ]
     },
     "metadata": {},
     "output_type": "display_data"
    }
   ],
   "source": [
    "data.Close.plot(figsize=(10,7))\n",
    "plt.ylabel(\"{} Price\".format(stocks))\n",
    "plt.title(\"{} Price Series\".format(stocks))\n",
    "plt.show()"
   ]
  },
  {
   "cell_type": "code",
   "execution_count": 20,
   "id": "71b153e9",
   "metadata": {},
   "outputs": [
    {
     "name": "stderr",
     "output_type": "stream",
     "text": [
      "C:\\Users\\Dhruv\\anaconda3\\Lib\\site-packages\\seaborn\\axisgrid.py:118: UserWarning: The figure layout has changed to tight\n",
      "  self._figure.tight_layout(*args, **kwargs)\n"
     ]
    },
    {
     "data": {
      "text/plain": [
       "<seaborn.axisgrid.FacetGrid at 0x16355246010>"
      ]
     },
     "execution_count": 20,
     "metadata": {},
     "output_type": "execute_result"
    },
    {
     "data": {
      "image/png": "[encoded data removed]",
      "text/plain": [
       "<Figure size 500x500 with 1 Axes>"
      ]
     },
     "metadata": {},
     "output_type": "display_data"
    }
   ],
   "source": [
    "sns.displot(data[\"Close\"])\n"
   ]
  },
  {
   "cell_type": "code",
   "execution_count": 21,
   "id": "cdfe96ff",
   "metadata": {},
   "outputs": [
    {
     "name": "stderr",
     "output_type": "stream",
     "text": [
      "C:\\Users\\Dhruv\\anaconda3\\Lib\\site-packages\\seaborn\\axisgrid.py:118: UserWarning: The figure layout has changed to tight\n",
      "  self._figure.tight_layout(*args, **kwargs)\n"
     ]
    },
    {
     "data": {
      "text/plain": [
       "<seaborn.axisgrid.FacetGrid at 0x1635525af50>"
      ]
     },
     "execution_count": 21,
     "metadata": {},
     "output_type": "execute_result"
    },
    {
     "data": {
      "image/png": "[encoded data removed]",
      "text/plain": [
       "<Figure size 500x500 with 1 Axes>"
      ]
     },
     "metadata": {},
     "output_type": "display_data"
    }
   ],
   "source": [
    "sns.displot(data[\"Open\"])"
   ]
  },
  {
   "cell_type": "code",
   "execution_count": 22,
   "id": "1b3dc154",
   "metadata": {},
   "outputs": [
    {
     "name": "stderr",
     "output_type": "stream",
     "text": [
      "C:\\Users\\Dhruv\\anaconda3\\Lib\\site-packages\\seaborn\\axisgrid.py:118: UserWarning: The figure layout has changed to tight\n",
      "  self._figure.tight_layout(*args, **kwargs)\n"
     ]
    },
    {
     "data": {
      "text/plain": [
       "<seaborn.axisgrid.FacetGrid at 0x16355627d50>"
      ]
     },
     "execution_count": 22,
     "metadata": {},
     "output_type": "execute_result"
    },
    {
     "data": {
      "image/png": "[encoded data removed]",
      "text/plain": [
       "<Figure size 500x500 with 1 Axes>"
      ]
     },
     "metadata": {},
     "output_type": "display_data"
    }
   ],
   "source": [
    "sns.displot(data[\"High\"])"
   ]
  },
  {
   "cell_type": "code",
   "execution_count": 23,
   "id": "173eb8fd",
   "metadata": {},
   "outputs": [],
   "source": [
    "#Conclusion \n",
    "\n",
    "#-shape of data\n",
    "#-how our data is distributed\n",
    "#-very very non linear\n",
    "#- Linear, logis, regularised, SVM,"
   ]
  },
  {
   "cell_type": "code",
   "execution_count": 26,
   "id": "b382cff3",
   "metadata": {},
   "outputs": [
    {
     "name": "stdout",
     "output_type": "stream",
     "text": [
      "(2747, 5)\n",
      "(687, 5)\n",
      "(2747,)\n",
      "(687,)\n"
     ]
    }
   ],
   "source": [
    "x = data.drop(\"Close\", axis = 1)\n",
    "y = data[\"Close\"]\n",
    "\n",
    "from sklearn.model_selection import train_test_split\n",
    "\n",
    "x_train, x_test, y_train, y_test = train_test_split(x,y, test_size=0.2, random_state = 0)\n",
    "print(x_train.shape)\n",
    "print(x_test.shape)\n",
    "print(y_train.shape)\n",
    "print(y_test.shape)"
   ]
  },
  {
   "cell_type": "code",
   "execution_count": 29,
   "id": "fea3cfe5",
   "metadata": {},
   "outputs": [],
   "source": [
    "from sklearn.linear_model import LinearRegression\n",
    "\n",
    "lr = LinearRegression()\n",
    "lr.fit(x_train, y_train)\n",
    "pred1 = lr.predict(x_test)"
   ]
  },
  {
   "cell_type": "code",
   "execution_count": 30,
   "id": "ca553194",
   "metadata": {},
   "outputs": [
    {
     "data": {
      "text/plain": [
       "array([ 6103.45019531, 14359.45019531,  4856.39990234,  8266.45019531,\n",
       "        5325.85009766, 19564.5       ,  5862.70019531,  7979.10009766,\n",
       "        5635.89990234,  7936.04980469, 11017.        ,  5359.35009766,\n",
       "       17222.        ,  5669.60009766, 17622.25      , 10513.84960938,\n",
       "        9491.25      , 10444.20019531,  5414.75      ,  8246.84960938,\n",
       "       15576.20019531,  4651.60009766,  5526.14990234,  8331.95019531,\n",
       "       10880.09960938, 10716.54980469, 11312.20019531,  8945.79980469,\n",
       "        5971.04980469,  8191.5       ,  6291.10009766,  8170.04980469,\n",
       "        5222.64990234,  6160.95019531,  7781.89990234,  7801.04980469,\n",
       "       11910.15039063, 14590.34960938, 10614.34960938,  5302.54980469,\n",
       "        5320.60009766, 18634.55078125,  4934.75      ,  5320.39990234,\n",
       "        8551.09960937,  5380.5       , 10452.5       ,  5133.39990234,\n",
       "        5693.04980469,  7934.89990234, 18338.55078125, 15737.75      ,\n",
       "        7914.75      , 10741.09960937, 10249.25      ,  6139.04980469,\n",
       "        8538.29980469, 11322.5       ,  8627.40039062,  4845.35009766,\n",
       "       15080.75      ,  7850.45019531,  8530.79980469, 10891.59960938,\n",
       "        8421.79980469, 19711.44921875,  8532.84960938,  5390.20019531,\n",
       "        8762.09960937, 10782.90039062, 20096.59960938, 10817.        ,\n",
       "       15721.5       ,  5269.04980469,  4705.79980469, 10729.84960938,\n",
       "        6177.35009766,  8281.09960938, 18114.90039063,  6796.39990234,\n",
       "       19528.80078125, 18244.19921875,  5906.14990234, 12355.5       ,\n",
       "        8044.14990234, 19434.55078125, 11214.04980469,  5205.10009766,\n",
       "        5686.25      , 10210.84960937, 14507.29980469, 15582.79980469,\n",
       "       18696.09960938,  9674.54980469,  7424.64990234,  8778.40039062,\n",
       "       20192.34960938,  5326.60009766,  5916.39990234, 10802.70019531,\n",
       "       10792.5       , 20070.        , 21456.65039063, 15691.40039063,\n",
       "        5364.95019531, 17648.94921875, 11162.25      ,  4936.85009766,\n",
       "       11861.09960937,  5189.        ,  7861.04980469,  6162.25      ,\n",
       "       19396.44921875, 16130.75      , 17392.69921875, 16682.65039062,\n",
       "       18068.55078125,  4947.60009766,  6066.04980469,  7714.89990234,\n",
       "       18601.5       ,  5228.45019531, 11582.90039062, 10530.        ,\n",
       "        8833.59960937,  5431.        ,  7459.60009766, 10760.59960937,\n",
       "       11552.5       ,  5257.95019531, 17185.69921875, 17624.05078125,\n",
       "       11416.95019531,  5660.25      ,  5531.5       ,  5459.85009766,\n",
       "        6101.85009766,  7783.35009766,  5522.39990234, 18129.94921875,\n",
       "       10604.34960938,  5306.29980469,  5231.89990234, 10930.45019531,\n",
       "        4999.95019531,  9270.90039063,  6363.89990234,  8270.45019531,\n",
       "       10118.25      ,  6018.29980469,  8831.54980469, 16945.05078125,\n",
       "       17076.90039062,  6178.35009766,  5745.95019531, 10141.15039062,\n",
       "        5386.45019531,  5719.70019531, 10570.54980469, 10847.90039063,\n",
       "        5476.5       ,  4613.10009766,  8362.65039062,  6079.79980469,\n",
       "       16931.05078125, 11222.40039062, 17857.25      , 17604.94921875,\n",
       "       15746.45019531,  8171.20019531,  7454.14990234,  9668.25      ,\n",
       "        5833.75      , 10888.79980469,  8659.90039062, 20926.34960938,\n",
       "       19517.        ,  8491.        , 11520.29980469,  8065.79980469,\n",
       "        4831.25      , 10855.15039062,  5881.        , 19389.        ,\n",
       "       14789.95019531, 19674.25      ,  8185.79980469,  5274.85009766,\n",
       "       14521.15039063, 11131.79980469,  4942.79980469, 17503.34960938,\n",
       "        5999.04980469, 15746.5       , 17522.44921875, 11438.09960937,\n",
       "        5505.35009766,  5531.        ,  5799.75      ,  7486.14990234,\n",
       "       12214.54980469,  8793.54980469, 12120.29980469, 11870.65039062,\n",
       "       19347.44921875,  8518.54980469,  5421.        , 11023.20019531,\n",
       "        4914.        , 11724.09960937,  8910.5       ,  6601.39990234,\n",
       "        6338.95019531,  8337.90039062,  7435.10009766,  8170.79980469,\n",
       "       16953.94921875,  4778.35009766, 12362.29980469, 12215.90039063,\n",
       "       10576.84960938, 16522.75      ,  8615.25      ,  8153.60009766,\n",
       "        4742.79980469,  5850.20019531, 17359.75      , 15732.09960938,\n",
       "        7750.89990234,  5818.60009766, 17759.30078125,  6091.85009766,\n",
       "        7786.10009766,  9030.45019531, 14761.54980469,  7887.79980469,\n",
       "        8769.15039062, 15670.25      ,  5932.95019531, 10618.20019531,\n",
       "        4706.45019531,  5550.35009766, 10548.70019531,  8952.34960938,\n",
       "        5988.70019531,  7018.70019531,  9106.25      , 15824.45019531,\n",
       "        5896.79980469, 16259.29980469,  8236.04980469, 18512.75      ,\n",
       "        5879.85009766, 11118.        ,  6115.35009766,  5244.75      ,\n",
       "        5522.29980469, 17245.65039062,  5007.89990234, 18181.75      ,\n",
       "       10858.70019531,  8467.90039062,  6135.85009766,  5072.95019531,\n",
       "        6203.35009766, 12858.40039062, 15722.20019531, 18534.40039062,\n",
       "        7880.70019531, 18856.84960938,  8769.04980469,  7733.45019531,\n",
       "       15774.40039062, 10153.09960937, 20103.09960938,  5338.        ,\n",
       "       14281.20019531, 17123.59960938,  5884.95019531,  4763.25      ,\n",
       "       18771.25      , 17171.94921875, 17748.59960938,  5687.25      ,\n",
       "       10463.20019531,  7747.        , 14199.5       ,  7612.5       ,\n",
       "        5153.25      , 10397.45019531,  6272.75      , 11126.40039063,\n",
       "       10682.20019531,  8017.54980469,  5289.70019531,  5718.70019531,\n",
       "        5253.54980469, 11377.75      ,  5554.25      ,  5641.60009766,\n",
       "       17745.90039062,  6030.79980469, 18157.        ,  5317.89990234,\n",
       "        5439.25      , 19778.30078125, 15799.09960938, 11168.04980469,\n",
       "       12113.45019531,  6221.14990234, 10380.45019531,  5921.39990234,\n",
       "        9984.79980469, 17222.75      ,  5413.85009766,  8629.15039062,\n",
       "       10844.65039063, 10066.40039062,  8477.29980469, 17858.19921875,\n",
       "        5711.60009766, 15966.65039062, 10322.25      , 10705.75      ,\n",
       "        5072.85009766, 17558.90039062, 18127.34960938, 11049.65039062,\n",
       "       11408.40039062,  8102.04980469, 17624.40039063,  6144.89990234,\n",
       "        5239.14990234, 10551.70019531,  6164.35009766, 10430.34960937,\n",
       "        7834.45019531,  8567.95019531, 18642.75      , 18122.5       ,\n",
       "       10077.09960938,  6159.45019531,  4839.60009766,  5290.85009766,\n",
       "        8060.70019531,  7968.85009766,  9261.95019531,  6187.29980469,\n",
       "       17894.84960938,  5574.04980469,  7649.25      ,  8754.95019531,\n",
       "        9955.20019531,  5885.70019531, 11300.45019531,  6779.39990234,\n",
       "        5766.5       ,  9119.40039062, 11301.79980469, 10061.54980469,\n",
       "        5401.45019531, 10607.34960938,  5684.25      ,  7748.70019531,\n",
       "        5479.14990234,  6233.89990234, 11278.90039062,  5235.89990234,\n",
       "        5685.39990234,  4921.39990234,  8632.75      , 16245.34960938,\n",
       "        9574.95019531,  8740.95019531,  5727.85009766,  4873.89990234,\n",
       "       10316.45019531,  9217.95019531, 17287.05078125,  8677.90039063,\n",
       "        8189.70019531,  6120.29980469, 10656.20019531,  5034.        ,\n",
       "        9765.54980469, 17203.94921875,  5359.54980469,  7842.75      ,\n",
       "       10265.65039062, 12088.54980469,  5373.70019531, 17490.69921875,\n",
       "        8495.15039062, 15109.29980469,  6022.39990234, 17891.94921875,\n",
       "        4772.14990234,  8179.5       , 15245.59960938,  5244.89990234,\n",
       "        5900.5       ,  7904.75      ,  8152.95019531,  8108.45019531,\n",
       "       19523.55078125, 10016.95019531,  6201.85009766,  5447.5       ,\n",
       "       13258.54980469, 19381.65039062,  8407.20019531, 19727.05078125,\n",
       "       11355.75      ,  5660.64990234, 17416.55078125, 10226.54980469,\n",
       "        5576.95019531,  5928.39990234, 15799.34960938, 19597.30078125,\n",
       "       18297.        , 11429.5       ,  9912.84960937,  5592.        ,\n",
       "        5648.        ,  9972.90039063,  9979.70019531,  4693.14990234,\n",
       "        9445.40039062,  5088.10009766, 10477.90039062,  5262.45019531,\n",
       "       10912.25      , 16214.70019531,  6694.35009766, 11319.54980469,\n",
       "       10093.04980469, 12771.70019531, 10727.34960938, 10628.5       ,\n",
       "       12048.20019531,  5471.79980469,  5114.14990234, 11053.        ,\n",
       "       12125.90039063,  6281.79980469,  5571.54980469, 16983.55078125,\n",
       "        8203.70019531, 11244.70019531,  5494.39990234, 11691.95019531,\n",
       "       12174.65039062, 11300.54980469,  5740.75      , 15683.34960938,\n",
       "        5287.45019531,  9100.79980469, 18035.84960938,  6074.64990234,\n",
       "       17532.05078125,  4944.14990234,  5277.89990234,  7276.79980469,\n",
       "        9663.90039062, 10640.95019531,  5132.29980469, 10741.09960937,\n",
       "       10234.65039063,  8381.09960937, 19733.55078125,  7235.64990234,\n",
       "        6048.25      ,  5486.14990234,  5590.25      ,  9136.84960937,\n",
       "        5229.        , 18118.30078125,  9126.84960937,  5449.10009766,\n",
       "        9311.95019531,  5480.25      ,  6694.79980469, 11641.79980469,\n",
       "        7860.75      ,  6145.79980469,  8879.09960938, 17711.44921875,\n",
       "        7351.        , 17576.84960938, 11472.25      ,  5368.14990234,\n",
       "       13133.90039063,  5889.75      ,  5068.5       , 11341.70019531,\n",
       "        8542.95019531,  5990.5       ,  6299.14990234, 14634.15039063,\n",
       "       13932.59960938,  7493.20019531,  5184.25      , 19306.05078125,\n",
       "       19901.40039062,  6318.89990234,  8922.65039062,  9316.84960937,\n",
       "       19133.25      , 11713.20019531,  8040.20019531,  8660.29980469,\n",
       "       18269.        ,  5701.29980469, 17764.80078125, 17764.59960938,\n",
       "        5215.70019531,  4867.25      , 11346.20019531, 20901.15039062,\n",
       "       11895.45019531,  5257.04980469, 15632.09960937,  6980.95019531,\n",
       "       17368.25      ,  8597.75      ,  9084.79980469,  8338.29980469,\n",
       "       10326.90039062,  7717.        , 17833.34960937,  9187.29980469,\n",
       "        7222.29980469,  5333.25      , 18633.84960938,  8647.75      ,\n",
       "        4858.25      ,  8475.75      , 19689.84960938,  6091.45019531,\n",
       "       17822.94921875, 17274.30078125, 10167.45019531, 17206.65039063,\n",
       "        6328.64990234,  8564.59960937,  7634.70019531,  7493.35009766,\n",
       "        7791.29980469,  4718.64990234, 12089.15039063,  7741.        ,\n",
       "        7663.89990234, 11512.40039062, 17117.59960938, 14919.09960938,\n",
       "        5676.04980469,  6121.60009766,  7329.64990234,  9380.90039062,\n",
       "        5190.60009766, 11604.09960938, 19632.55078125, 16125.15039062,\n",
       "        9261.84960938,  7946.35009766, 11840.45019531,  5742.        ,\n",
       "       10908.70019531,  8756.75      ,  8529.45019531,  5708.04980469,\n",
       "       18816.69921875,  8699.95019531, 17475.65039062,  5542.25      ,\n",
       "        5276.85009766,  7812.        , 16955.44921875,  5567.04980469,\n",
       "        5363.45019531, 17605.84960938,  9616.40039062, 18348.        ,\n",
       "        5054.10009766,  5199.79980469, 17790.34960938, 19465.        ,\n",
       "        8706.40039062,  5825.        ,  8462.34960937,  8253.79980469,\n",
       "        8459.65039062,  5012.54980469, 16013.45019531, 21349.40039063,\n",
       "        5847.70019531,  8570.90039062, 17807.65039062,  5281.79980469,\n",
       "       11250.54980469,  5230.10009766, 16584.30078125,  5483.29980469,\n",
       "        6009.04980469,  8111.75      , 10442.20019531, 12045.79980469,\n",
       "        6524.04980469, 10685.59960937, 14867.34960938, 12719.95019531,\n",
       "       10922.75      , 11707.90039063, 16842.80078125,  5418.29980469,\n",
       "       16167.09960938,  5842.        ,  6048.5       ,  5665.60009766,\n",
       "        8756.54980469,  8337.        , 18857.25      , 10242.65039062,\n",
       "        4985.64990234, 17176.69921875,  4965.70019531,  8638.5       ,\n",
       "       11962.09960938, 11829.40039062,  8786.20019531,  7437.79980469,\n",
       "        8723.29980469,  8738.09960938,  7215.70019531, 17754.40039062,\n",
       "        5315.04980469, 11101.65039063,  9604.90039062,  7123.14990234,\n",
       "        5385.20019531, 15208.90039062, 19384.30078125,  8744.34960938,\n",
       "       18069.        ,  9859.90039063,  7721.29980469, 10637.        ,\n",
       "       18418.75      , 21418.65039062, 18826.        ,  7536.79980469,\n",
       "       10057.40039062, 18307.65039062,  5220.45019531,  6152.75      ,\n",
       "        8592.15039062, 16793.90039063,  5746.95019531, 10876.75      ,\n",
       "        9504.09960938, 10192.95019531, 17339.84960938,  5252.20019531,\n",
       "        8102.10009766, 17576.30078125,  5651.35009766,  5316.95019531,\n",
       "       19365.25      ,  5203.64990234, 18082.84960937,  4855.75      ,\n",
       "       17094.34960938, 10786.95019531,  7701.70019531,  8659.09960937,\n",
       "        9606.90039062, 10623.59960937, 17353.5       , 10146.79980469,\n",
       "        7870.14990234,  9520.90039062,  5654.54980469,  5833.20019531,\n",
       "        7911.85009766,  5348.95019531, 11787.15039062])"
      ]
     },
     "execution_count": 30,
     "metadata": {},
     "output_type": "execute_result"
    }
   ],
   "source": [
    "pred1"
   ]
  },
  {
   "cell_type": "code",
   "execution_count": 36,
   "id": "822102aa",
   "metadata": {},
   "outputs": [
    {
     "name": "stdout",
     "output_type": "stream",
     "text": [
      "2.0467602958935833e-23\n",
      "4.524113499784884e-12\n",
      "1.0\n"
     ]
    }
   ],
   "source": [
    "#MSE -> MEAN SQUARE ERROR\n",
    "#RMSE ---> SQRT(MSE)\n",
    "#R2_SQUARE ---> 1.0 #GOOD MODEL\n",
    "\n",
    "\n",
    "from sklearn.metrics import mean_squared_error, r2_score\n",
    "\n",
    "#ytest is ground truth ypred is predicted value\n",
    "\n",
    "\n",
    "\n",
    "\n",
    "def calculate_metrics(y_test, y_pred):\n",
    "    mse = mean_squared_error(y_test, y_pred)\n",
    "    rmse = np.sqrt(mse)\n",
    "    r2_scors = r2_score(y_test, y_pred)\n",
    "    print(mse)\n",
    "    print(rmse)\n",
    "    print(r2_scors)\n",
    "    \n",
    "calculate_metrics(y_test, pred1)    \n",
    "    "
   ]
  },
  {
   "cell_type": "code",
   "execution_count": 42,
   "id": "94dcfa04",
   "metadata": {},
   "outputs": [
    {
     "name": "stderr",
     "output_type": "stream",
     "text": [
      "C:\\Users\\Dhruv\\anaconda3\\Lib\\site-packages\\sklearn\\linear_model\\_coordinate_descent.py:628: ConvergenceWarning: Objective did not converge. You might want to increase the number of iterations, check the scale of the features or consider increasing regularisation. Duality gap: 5.969e+06, tolerance: 5.258e+06\n",
      "  model = cd_fast.enet_coordinate_descent(\n",
      "C:\\Users\\Dhruv\\anaconda3\\Lib\\site-packages\\sklearn\\base.py:464: UserWarning: X does not have valid feature names, but Ridge was fitted with feature names\n",
      "  warnings.warn(\n"
     ]
    },
    {
     "ename": "ValueError",
     "evalue": "Expected 2D array, got 1D array instead:\narray=[ 6103.45019531 14359.45019531  4856.39990234  8266.45019531\n  5325.85009766 19564.5         5862.70019531  7979.10009766\n  5635.89990234  7936.04980469 11017.          5359.35009766\n 17222.          5669.60009766 17622.25       10513.84960938\n  9491.25       10444.20019531  5414.75        8246.84960938\n 15576.20019531  4651.60009766  5526.14990234  8331.95019531\n 10880.09960938 10716.54980469 11312.20019531  8945.79980469\n  5971.04980469  8191.5         6291.10009766  8170.04980469\n  5222.64990234  6160.95019531  7781.89990234  7801.04980469\n 11910.15039062 14590.34960938 10614.34960938  5302.54980469\n  5320.60009766 18634.55078125  4934.75        5320.39990234\n  8551.09960938  5380.5        10452.5         5133.39990234\n  5693.04980469  7934.89990234 18338.55078125 15737.75\n  7914.75       10741.09960938 10249.25        6139.04980469\n  8538.29980469 11322.5         8627.40039062  4845.35009766\n 15080.75        7850.45019531  8530.79980469 10891.59960938\n  8421.79980469 19711.44921875  8532.84960938  5390.20019531\n  8762.09960938 10782.90039062 20096.59960938 10817.\n 15721.5         5269.04980469  4705.79980469 10729.84960938\n  6177.35009766  8281.09960938 18114.90039062  6796.39990234\n 19528.80078125 18244.19921875  5906.14990234 12355.5\n  8044.14990234 19434.55078125 11214.04980469  5205.10009766\n  5686.25       10210.84960938 14507.29980469 15582.79980469\n 18696.09960938  9674.54980469  7424.64990234  8778.40039062\n 20192.34960938  5326.60009766  5916.39990234 10802.70019531\n 10792.5        20070.         21456.65039062 15691.40039062\n  5364.95019531 17648.94921875 11162.25        4936.85009766\n 11861.09960938  5189.          7861.04980469  6162.25\n 19396.44921875 16130.75       17392.69921875 16682.65039062\n 18068.55078125  4947.60009766  6066.04980469  7714.89990234\n 18601.5         5228.45019531 11582.90039062 10530.\n  8833.59960938  5431.          7459.60009766 10760.59960938\n 11552.5         5257.95019531 17185.69921875 17624.05078125\n 11416.95019531  5660.25        5531.5         5459.85009766\n  6101.85009766  7783.35009766  5522.39990234 18129.94921875\n 10604.34960938  5306.29980469  5231.89990234 10930.45019531\n  4999.95019531  9270.90039062  6363.89990234  8270.45019531\n 10118.25        6018.29980469  8831.54980469 16945.05078125\n 17076.90039062  6178.35009766  5745.95019531 10141.15039062\n  5386.45019531  5719.70019531 10570.54980469 10847.90039062\n  5476.5         4613.10009766  8362.65039062  6079.79980469\n 16931.05078125 11222.40039062 17857.25       17604.94921875\n 15746.45019531  8171.20019531  7454.14990234  9668.25\n  5833.75       10888.79980469  8659.90039062 20926.34960938\n 19517.          8491.         11520.29980469  8065.79980469\n  4831.25       10855.15039062  5881.         19389.\n 14789.95019531 19674.25        8185.79980469  5274.85009766\n 14521.15039062 11131.79980469  4942.79980469 17503.34960938\n  5999.04980469 15746.5        17522.44921875 11438.09960938\n  5505.35009766  5531.          5799.75        7486.14990234\n 12214.54980469  8793.54980469 12120.29980469 11870.65039062\n 19347.44921875  8518.54980469  5421.         11023.20019531\n  4914.         11724.09960938  8910.5         6601.39990234\n  6338.95019531  8337.90039062  7435.10009766  8170.79980469\n 16953.94921875  4778.35009766 12362.29980469 12215.90039062\n 10576.84960938 16522.75        8615.25        8153.60009766\n  4742.79980469  5850.20019531 17359.75       15732.09960938\n  7750.89990234  5818.60009766 17759.30078125  6091.85009766\n  7786.10009766  9030.45019531 14761.54980469  7887.79980469\n  8769.15039062 15670.25        5932.95019531 10618.20019531\n  4706.45019531  5550.35009766 10548.70019531  8952.34960938\n  5988.70019531  7018.70019531  9106.25       15824.45019531\n  5896.79980469 16259.29980469  8236.04980469 18512.75\n  5879.85009766 11118.          6115.35009766  5244.75\n  5522.29980469 17245.65039062  5007.89990234 18181.75\n 10858.70019531  8467.90039062  6135.85009766  5072.95019531\n  6203.35009766 12858.40039062 15722.20019531 18534.40039062\n  7880.70019531 18856.84960938  8769.04980469  7733.45019531\n 15774.40039062 10153.09960938 20103.09960938  5338.\n 14281.20019531 17123.59960938  5884.95019531  4763.25\n 18771.25       17171.94921875 17748.59960938  5687.25\n 10463.20019531  7747.         14199.5         7612.5\n  5153.25       10397.45019531  6272.75       11126.40039062\n 10682.20019531  8017.54980469  5289.70019531  5718.70019531\n  5253.54980469 11377.75        5554.25        5641.60009766\n 17745.90039062  6030.79980469 18157.          5317.89990234\n  5439.25       19778.30078125 15799.09960938 11168.04980469\n 12113.45019531  6221.14990234 10380.45019531  5921.39990234\n  9984.79980469 17222.75        5413.85009766  8629.15039062\n 10844.65039062 10066.40039062  8477.29980469 17858.19921875\n  5711.60009766 15966.65039062 10322.25       10705.75\n  5072.85009766 17558.90039062 18127.34960938 11049.65039062\n 11408.40039062  8102.04980469 17624.40039062  6144.89990234\n  5239.14990234 10551.70019531  6164.35009766 10430.34960938\n  7834.45019531  8567.95019531 18642.75       18122.5\n 10077.09960938  6159.45019531  4839.60009766  5290.85009766\n  8060.70019531  7968.85009766  9261.95019531  6187.29980469\n 17894.84960938  5574.04980469  7649.25        8754.95019531\n  9955.20019531  5885.70019531 11300.45019531  6779.39990234\n  5766.5         9119.40039062 11301.79980469 10061.54980469\n  5401.45019531 10607.34960938  5684.25        7748.70019531\n  5479.14990234  6233.89990234 11278.90039062  5235.89990234\n  5685.39990234  4921.39990234  8632.75       16245.34960938\n  9574.95019531  8740.95019531  5727.85009766  4873.89990234\n 10316.45019531  9217.95019531 17287.05078125  8677.90039062\n  8189.70019531  6120.29980469 10656.20019531  5034.\n  9765.54980469 17203.94921875  5359.54980469  7842.75\n 10265.65039062 12088.54980469  5373.70019531 17490.69921875\n  8495.15039062 15109.29980469  6022.39990234 17891.94921875\n  4772.14990234  8179.5        15245.59960938  5244.89990234\n  5900.5         7904.75        8152.95019531  8108.45019531\n 19523.55078125 10016.95019531  6201.85009766  5447.5\n 13258.54980469 19381.65039062  8407.20019531 19727.05078125\n 11355.75        5660.64990234 17416.55078125 10226.54980469\n  5576.95019531  5928.39990234 15799.34960938 19597.30078125\n 18297.         11429.5         9912.84960938  5592.\n  5648.          9972.90039062  9979.70019531  4693.14990234\n  9445.40039062  5088.10009766 10477.90039062  5262.45019531\n 10912.25       16214.70019531  6694.35009766 11319.54980469\n 10093.04980469 12771.70019531 10727.34960938 10628.5\n 12048.20019531  5471.79980469  5114.14990234 11053.\n 12125.90039062  6281.79980469  5571.54980469 16983.55078125\n  8203.70019531 11244.70019531  5494.39990234 11691.95019531\n 12174.65039062 11300.54980469  5740.75       15683.34960938\n  5287.45019531  9100.79980469 18035.84960938  6074.64990234\n 17532.05078125  4944.14990234  5277.89990234  7276.79980469\n  9663.90039062 10640.95019531  5132.29980469 10741.09960938\n 10234.65039062  8381.09960938 19733.55078125  7235.64990234\n  6048.25        5486.14990234  5590.25        9136.84960938\n  5229.         18118.30078125  9126.84960938  5449.10009766\n  9311.95019531  5480.25        6694.79980469 11641.79980469\n  7860.75        6145.79980469  8879.09960938 17711.44921875\n  7351.         17576.84960938 11472.25        5368.14990234\n 13133.90039062  5889.75        5068.5        11341.70019531\n  8542.95019531  5990.5         6299.14990234 14634.15039062\n 13932.59960938  7493.20019531  5184.25       19306.05078125\n 19901.40039062  6318.89990234  8922.65039062  9316.84960938\n 19133.25       11713.20019531  8040.20019531  8660.29980469\n 18269.          5701.29980469 17764.80078125 17764.59960938\n  5215.70019531  4867.25       11346.20019531 20901.15039062\n 11895.45019531  5257.04980469 15632.09960938  6980.95019531\n 17368.25        8597.75        9084.79980469  8338.29980469\n 10326.90039062  7717.         17833.34960938  9187.29980469\n  7222.29980469  5333.25       18633.84960938  8647.75\n  4858.25        8475.75       19689.84960938  6091.45019531\n 17822.94921875 17274.30078125 10167.45019531 17206.65039062\n  6328.64990234  8564.59960938  7634.70019531  7493.35009766\n  7791.29980469  4718.64990234 12089.15039062  7741.\n  7663.89990234 11512.40039062 17117.59960938 14919.09960938\n  5676.04980469  6121.60009766  7329.64990234  9380.90039062\n  5190.60009766 11604.09960938 19632.55078125 16125.15039062\n  9261.84960938  7946.35009766 11840.45019531  5742.\n 10908.70019531  8756.75        8529.45019531  5708.04980469\n 18816.69921875  8699.95019531 17475.65039062  5542.25\n  5276.85009766  7812.         16955.44921875  5567.04980469\n  5363.45019531 17605.84960938  9616.40039062 18348.\n  5054.10009766  5199.79980469 17790.34960938 19465.\n  8706.40039062  5825.          8462.34960938  8253.79980469\n  8459.65039062  5012.54980469 16013.45019531 21349.40039062\n  5847.70019531  8570.90039062 17807.65039062  5281.79980469\n 11250.54980469  5230.10009766 16584.30078125  5483.29980469\n  6009.04980469  8111.75       10442.20019531 12045.79980469\n  6524.04980469 10685.59960938 14867.34960938 12719.95019531\n 10922.75       11707.90039062 16842.80078125  5418.29980469\n 16167.09960938  5842.          6048.5         5665.60009766\n  8756.54980469  8337.         18857.25       10242.65039062\n  4985.64990234 17176.69921875  4965.70019531  8638.5\n 11962.09960938 11829.40039062  8786.20019531  7437.79980469\n  8723.29980469  8738.09960938  7215.70019531 17754.40039062\n  5315.04980469 11101.65039062  9604.90039062  7123.14990234\n  5385.20019531 15208.90039062 19384.30078125  8744.34960938\n 18069.          9859.90039062  7721.29980469 10637.\n 18418.75       21418.65039062 18826.          7536.79980469\n 10057.40039062 18307.65039062  5220.45019531  6152.75\n  8592.15039062 16793.90039062  5746.95019531 10876.75\n  9504.09960938 10192.95019531 17339.84960938  5252.20019531\n  8102.10009766 17576.30078125  5651.35009766  5316.95019531\n 19365.25        5203.64990234 18082.84960938  4855.75\n 17094.34960938 10786.95019531  7701.70019531  8659.09960938\n  9606.90039062 10623.59960938 17353.5        10146.79980469\n  7870.14990234  9520.90039062  5654.54980469  5833.20019531\n  7911.85009766  5348.95019531 11787.15039062].\nReshape your data either using array.reshape(-1, 1) if your data has a single feature or array.reshape(1, -1) if it contains a single sample.",
     "output_type": "error",
     "traceback": [
      "\u001b[1;31m---------------------------------------------------------------------------\u001b[0m",
      "\u001b[1;31mValueError\u001b[0m                                Traceback (most recent call last)",
      "Cell \u001b[1;32mIn[42], line 7\u001b[0m\n\u001b[0;32m      4\u001b[0m ri \u001b[38;5;241m=\u001b[39m Ridge()\u001b[38;5;241m.\u001b[39mfit(x_train, y_train)\n\u001b[0;32m      6\u001b[0m lap \u001b[38;5;241m=\u001b[39m la\u001b[38;5;241m.\u001b[39mpredict(x_test)\n\u001b[1;32m----> 7\u001b[0m rip \u001b[38;5;241m=\u001b[39m \u001b[43mri\u001b[49m\u001b[38;5;241;43m.\u001b[39;49m\u001b[43mpredict\u001b[49m\u001b[43m(\u001b[49m\u001b[43my_test\u001b[49m\u001b[43m)\u001b[49m\n",
      "File \u001b[1;32m~\\anaconda3\\Lib\\site-packages\\sklearn\\linear_model\\_base.py:386\u001b[0m, in \u001b[0;36mLinearModel.predict\u001b[1;34m(self, X)\u001b[0m\n\u001b[0;32m    372\u001b[0m \u001b[38;5;28;01mdef\u001b[39;00m \u001b[38;5;21mpredict\u001b[39m(\u001b[38;5;28mself\u001b[39m, X):\n\u001b[0;32m    373\u001b[0m \u001b[38;5;250m    \u001b[39m\u001b[38;5;124;03m\"\"\"\u001b[39;00m\n\u001b[0;32m    374\u001b[0m \u001b[38;5;124;03m    Predict using the linear model.\u001b[39;00m\n\u001b[0;32m    375\u001b[0m \n\u001b[1;32m   (...)\u001b[0m\n\u001b[0;32m    384\u001b[0m \u001b[38;5;124;03m        Returns predicted values.\u001b[39;00m\n\u001b[0;32m    385\u001b[0m \u001b[38;5;124;03m    \"\"\"\u001b[39;00m\n\u001b[1;32m--> 386\u001b[0m     \u001b[38;5;28;01mreturn\u001b[39;00m \u001b[38;5;28;43mself\u001b[39;49m\u001b[38;5;241;43m.\u001b[39;49m\u001b[43m_decision_function\u001b[49m\u001b[43m(\u001b[49m\u001b[43mX\u001b[49m\u001b[43m)\u001b[49m\n",
      "File \u001b[1;32m~\\anaconda3\\Lib\\site-packages\\sklearn\\linear_model\\_base.py:369\u001b[0m, in \u001b[0;36mLinearModel._decision_function\u001b[1;34m(self, X)\u001b[0m\n\u001b[0;32m    366\u001b[0m \u001b[38;5;28;01mdef\u001b[39;00m \u001b[38;5;21m_decision_function\u001b[39m(\u001b[38;5;28mself\u001b[39m, X):\n\u001b[0;32m    367\u001b[0m     check_is_fitted(\u001b[38;5;28mself\u001b[39m)\n\u001b[1;32m--> 369\u001b[0m     X \u001b[38;5;241m=\u001b[39m \u001b[38;5;28;43mself\u001b[39;49m\u001b[38;5;241;43m.\u001b[39;49m\u001b[43m_validate_data\u001b[49m\u001b[43m(\u001b[49m\u001b[43mX\u001b[49m\u001b[43m,\u001b[49m\u001b[43m \u001b[49m\u001b[43maccept_sparse\u001b[49m\u001b[38;5;241;43m=\u001b[39;49m\u001b[43m[\u001b[49m\u001b[38;5;124;43m\"\u001b[39;49m\u001b[38;5;124;43mcsr\u001b[39;49m\u001b[38;5;124;43m\"\u001b[39;49m\u001b[43m,\u001b[49m\u001b[43m \u001b[49m\u001b[38;5;124;43m\"\u001b[39;49m\u001b[38;5;124;43mcsc\u001b[39;49m\u001b[38;5;124;43m\"\u001b[39;49m\u001b[43m,\u001b[49m\u001b[43m \u001b[49m\u001b[38;5;124;43m\"\u001b[39;49m\u001b[38;5;124;43mcoo\u001b[39;49m\u001b[38;5;124;43m\"\u001b[39;49m\u001b[43m]\u001b[49m\u001b[43m,\u001b[49m\u001b[43m \u001b[49m\u001b[43mreset\u001b[49m\u001b[38;5;241;43m=\u001b[39;49m\u001b[38;5;28;43;01mFalse\u001b[39;49;00m\u001b[43m)\u001b[49m\n\u001b[0;32m    370\u001b[0m     \u001b[38;5;28;01mreturn\u001b[39;00m safe_sparse_dot(X, \u001b[38;5;28mself\u001b[39m\u001b[38;5;241m.\u001b[39mcoef_\u001b[38;5;241m.\u001b[39mT, dense_output\u001b[38;5;241m=\u001b[39m\u001b[38;5;28;01mTrue\u001b[39;00m) \u001b[38;5;241m+\u001b[39m \u001b[38;5;28mself\u001b[39m\u001b[38;5;241m.\u001b[39mintercept_\n",
      "File \u001b[1;32m~\\anaconda3\\Lib\\site-packages\\sklearn\\base.py:604\u001b[0m, in \u001b[0;36mBaseEstimator._validate_data\u001b[1;34m(self, X, y, reset, validate_separately, cast_to_ndarray, **check_params)\u001b[0m\n\u001b[0;32m    602\u001b[0m         out \u001b[38;5;241m=\u001b[39m X, y\n\u001b[0;32m    603\u001b[0m \u001b[38;5;28;01melif\u001b[39;00m \u001b[38;5;129;01mnot\u001b[39;00m no_val_X \u001b[38;5;129;01mand\u001b[39;00m no_val_y:\n\u001b[1;32m--> 604\u001b[0m     out \u001b[38;5;241m=\u001b[39m \u001b[43mcheck_array\u001b[49m\u001b[43m(\u001b[49m\u001b[43mX\u001b[49m\u001b[43m,\u001b[49m\u001b[43m \u001b[49m\u001b[43minput_name\u001b[49m\u001b[38;5;241;43m=\u001b[39;49m\u001b[38;5;124;43m\"\u001b[39;49m\u001b[38;5;124;43mX\u001b[39;49m\u001b[38;5;124;43m\"\u001b[39;49m\u001b[43m,\u001b[49m\u001b[43m \u001b[49m\u001b[38;5;241;43m*\u001b[39;49m\u001b[38;5;241;43m*\u001b[39;49m\u001b[43mcheck_params\u001b[49m\u001b[43m)\u001b[49m\n\u001b[0;32m    605\u001b[0m \u001b[38;5;28;01melif\u001b[39;00m no_val_X \u001b[38;5;129;01mand\u001b[39;00m \u001b[38;5;129;01mnot\u001b[39;00m no_val_y:\n\u001b[0;32m    606\u001b[0m     out \u001b[38;5;241m=\u001b[39m _check_y(y, \u001b[38;5;241m*\u001b[39m\u001b[38;5;241m*\u001b[39mcheck_params)\n",
      "File \u001b[1;32m~\\anaconda3\\Lib\\site-packages\\sklearn\\utils\\validation.py:940\u001b[0m, in \u001b[0;36mcheck_array\u001b[1;34m(array, accept_sparse, accept_large_sparse, dtype, order, copy, force_all_finite, ensure_2d, allow_nd, ensure_min_samples, ensure_min_features, estimator, input_name)\u001b[0m\n\u001b[0;32m    938\u001b[0m     \u001b[38;5;66;03m# If input is 1D raise error\u001b[39;00m\n\u001b[0;32m    939\u001b[0m     \u001b[38;5;28;01mif\u001b[39;00m array\u001b[38;5;241m.\u001b[39mndim \u001b[38;5;241m==\u001b[39m \u001b[38;5;241m1\u001b[39m:\n\u001b[1;32m--> 940\u001b[0m         \u001b[38;5;28;01mraise\u001b[39;00m \u001b[38;5;167;01mValueError\u001b[39;00m(\n\u001b[0;32m    941\u001b[0m             \u001b[38;5;124m\"\u001b[39m\u001b[38;5;124mExpected 2D array, got 1D array instead:\u001b[39m\u001b[38;5;130;01m\\n\u001b[39;00m\u001b[38;5;124marray=\u001b[39m\u001b[38;5;132;01m{}\u001b[39;00m\u001b[38;5;124m.\u001b[39m\u001b[38;5;130;01m\\n\u001b[39;00m\u001b[38;5;124m\"\u001b[39m\n\u001b[0;32m    942\u001b[0m             \u001b[38;5;124m\"\u001b[39m\u001b[38;5;124mReshape your data either using array.reshape(-1, 1) if \u001b[39m\u001b[38;5;124m\"\u001b[39m\n\u001b[0;32m    943\u001b[0m             \u001b[38;5;124m\"\u001b[39m\u001b[38;5;124myour data has a single feature or array.reshape(1, -1) \u001b[39m\u001b[38;5;124m\"\u001b[39m\n\u001b[0;32m    944\u001b[0m             \u001b[38;5;124m\"\u001b[39m\u001b[38;5;124mif it contains a single sample.\u001b[39m\u001b[38;5;124m\"\u001b[39m\u001b[38;5;241m.\u001b[39mformat(array)\n\u001b[0;32m    945\u001b[0m         )\n\u001b[0;32m    947\u001b[0m \u001b[38;5;28;01mif\u001b[39;00m dtype_numeric \u001b[38;5;129;01mand\u001b[39;00m \u001b[38;5;28mhasattr\u001b[39m(array\u001b[38;5;241m.\u001b[39mdtype, \u001b[38;5;124m\"\u001b[39m\u001b[38;5;124mkind\u001b[39m\u001b[38;5;124m\"\u001b[39m) \u001b[38;5;129;01mand\u001b[39;00m array\u001b[38;5;241m.\u001b[39mdtype\u001b[38;5;241m.\u001b[39mkind \u001b[38;5;129;01min\u001b[39;00m \u001b[38;5;124m\"\u001b[39m\u001b[38;5;124mUSV\u001b[39m\u001b[38;5;124m\"\u001b[39m:\n\u001b[0;32m    948\u001b[0m     \u001b[38;5;28;01mraise\u001b[39;00m \u001b[38;5;167;01mValueError\u001b[39;00m(\n\u001b[0;32m    949\u001b[0m         \u001b[38;5;124m\"\u001b[39m\u001b[38;5;124mdtype=\u001b[39m\u001b[38;5;124m'\u001b[39m\u001b[38;5;124mnumeric\u001b[39m\u001b[38;5;124m'\u001b[39m\u001b[38;5;124m is not compatible with arrays of bytes/strings.\u001b[39m\u001b[38;5;124m\"\u001b[39m\n\u001b[0;32m    950\u001b[0m         \u001b[38;5;124m\"\u001b[39m\u001b[38;5;124mConvert your data to numeric values explicitly instead.\u001b[39m\u001b[38;5;124m\"\u001b[39m\n\u001b[0;32m    951\u001b[0m     )\n",
      "\u001b[1;31mValueError\u001b[0m: Expected 2D array, got 1D array instead:\narray=[ 6103.45019531 14359.45019531  4856.39990234  8266.45019531\n  5325.85009766 19564.5         5862.70019531  7979.10009766\n  5635.89990234  7936.04980469 11017.          5359.35009766\n 17222.          5669.60009766 17622.25       10513.84960938\n  9491.25       10444.20019531  5414.75        8246.84960938\n 15576.20019531  4651.60009766  5526.14990234  8331.95019531\n 10880.09960938 10716.54980469 11312.20019531  8945.79980469\n  5971.04980469  8191.5         6291.10009766  8170.04980469\n  5222.64990234  6160.95019531  7781.89990234  7801.04980469\n 11910.15039062 14590.34960938 10614.34960938  5302.54980469\n  5320.60009766 18634.55078125  4934.75        5320.39990234\n  8551.09960938  5380.5        10452.5         5133.39990234\n  5693.04980469  7934.89990234 18338.55078125 15737.75\n  7914.75       10741.09960938 10249.25        6139.04980469\n  8538.29980469 11322.5         8627.40039062  4845.35009766\n 15080.75        7850.45019531  8530.79980469 10891.59960938\n  8421.79980469 19711.44921875  8532.84960938  5390.20019531\n  8762.09960938 10782.90039062 20096.59960938 10817.\n 15721.5         5269.04980469  4705.79980469 10729.84960938\n  6177.35009766  8281.09960938 18114.90039062  6796.39990234\n 19528.80078125 18244.19921875  5906.14990234 12355.5\n  8044.14990234 19434.55078125 11214.04980469  5205.10009766\n  5686.25       10210.84960938 14507.29980469 15582.79980469\n 18696.09960938  9674.54980469  7424.64990234  8778.40039062\n 20192.34960938  5326.60009766  5916.39990234 10802.70019531\n 10792.5        20070.         21456.65039062 15691.40039062\n  5364.95019531 17648.94921875 11162.25        4936.85009766\n 11861.09960938  5189.          7861.04980469  6162.25\n 19396.44921875 16130.75       17392.69921875 16682.65039062\n 18068.55078125  4947.60009766  6066.04980469  7714.89990234\n 18601.5         5228.45019531 11582.90039062 10530.\n  8833.59960938  5431.          7459.60009766 10760.59960938\n 11552.5         5257.95019531 17185.69921875 17624.05078125\n 11416.95019531  5660.25        5531.5         5459.85009766\n  6101.85009766  7783.35009766  5522.39990234 18129.94921875\n 10604.34960938  5306.29980469  5231.89990234 10930.45019531\n  4999.95019531  9270.90039062  6363.89990234  8270.45019531\n 10118.25        6018.29980469  8831.54980469 16945.05078125\n 17076.90039062  6178.35009766  5745.95019531 10141.15039062\n  5386.45019531  5719.70019531 10570.54980469 10847.90039062\n  5476.5         4613.10009766  8362.65039062  6079.79980469\n 16931.05078125 11222.40039062 17857.25       17604.94921875\n 15746.45019531  8171.20019531  7454.14990234  9668.25\n  5833.75       10888.79980469  8659.90039062 20926.34960938\n 19517.          8491.         11520.29980469  8065.79980469\n  4831.25       10855.15039062  5881.         19389.\n 14789.95019531 19674.25        8185.79980469  5274.85009766\n 14521.15039062 11131.79980469  4942.79980469 17503.34960938\n  5999.04980469 15746.5        17522.44921875 11438.09960938\n  5505.35009766  5531.          5799.75        7486.14990234\n 12214.54980469  8793.54980469 12120.29980469 11870.65039062\n 19347.44921875  8518.54980469  5421.         11023.20019531\n  4914.         11724.09960938  8910.5         6601.39990234\n  6338.95019531  8337.90039062  7435.10009766  8170.79980469\n 16953.94921875  4778.35009766 12362.29980469 12215.90039062\n 10576.84960938 16522.75        8615.25        8153.60009766\n  4742.79980469  5850.20019531 17359.75       15732.09960938\n  7750.89990234  5818.60009766 17759.30078125  6091.85009766\n  7786.10009766  9030.45019531 14761.54980469  7887.79980469\n  8769.15039062 15670.25        5932.95019531 10618.20019531\n  4706.45019531  5550.35009766 10548.70019531  8952.34960938\n  5988.70019531  7018.70019531  9106.25       15824.45019531\n  5896.79980469 16259.29980469  8236.04980469 18512.75\n  5879.85009766 11118.          6115.35009766  5244.75\n  5522.29980469 17245.65039062  5007.89990234 18181.75\n 10858.70019531  8467.90039062  6135.85009766  5072.95019531\n  6203.35009766 12858.40039062 15722.20019531 18534.40039062\n  7880.70019531 18856.84960938  8769.04980469  7733.45019531\n 15774.40039062 10153.09960938 20103.09960938  5338.\n 14281.20019531 17123.59960938  5884.95019531  4763.25\n 18771.25       17171.94921875 17748.59960938  5687.25\n 10463.20019531  7747.         14199.5         7612.5\n  5153.25       10397.45019531  6272.75       11126.40039062\n 10682.20019531  8017.54980469  5289.70019531  5718.70019531\n  5253.54980469 11377.75        5554.25        5641.60009766\n 17745.90039062  6030.79980469 18157.          5317.89990234\n  5439.25       19778.30078125 15799.09960938 11168.04980469\n 12113.45019531  6221.14990234 10380.45019531  5921.39990234\n  9984.79980469 17222.75        5413.85009766  8629.15039062\n 10844.65039062 10066.40039062  8477.29980469 17858.19921875\n  5711.60009766 15966.65039062 10322.25       10705.75\n  5072.85009766 17558.90039062 18127.34960938 11049.65039062\n 11408.40039062  8102.04980469 17624.40039062  6144.89990234\n  5239.14990234 10551.70019531  6164.35009766 10430.34960938\n  7834.45019531  8567.95019531 18642.75       18122.5\n 10077.09960938  6159.45019531  4839.60009766  5290.85009766\n  8060.70019531  7968.85009766  9261.95019531  6187.29980469\n 17894.84960938  5574.04980469  7649.25        8754.95019531\n  9955.20019531  5885.70019531 11300.45019531  6779.39990234\n  5766.5         9119.40039062 11301.79980469 10061.54980469\n  5401.45019531 10607.34960938  5684.25        7748.70019531\n  5479.14990234  6233.89990234 11278.90039062  5235.89990234\n  5685.39990234  4921.39990234  8632.75       16245.34960938\n  9574.95019531  8740.95019531  5727.85009766  4873.89990234\n 10316.45019531  9217.95019531 17287.05078125  8677.90039062\n  8189.70019531  6120.29980469 10656.20019531  5034.\n  9765.54980469 17203.94921875  5359.54980469  7842.75\n 10265.65039062 12088.54980469  5373.70019531 17490.69921875\n  8495.15039062 15109.29980469  6022.39990234 17891.94921875\n  4772.14990234  8179.5        15245.59960938  5244.89990234\n  5900.5         7904.75        8152.95019531  8108.45019531\n 19523.55078125 10016.95019531  6201.85009766  5447.5\n 13258.54980469 19381.65039062  8407.20019531 19727.05078125\n 11355.75        5660.64990234 17416.55078125 10226.54980469\n  5576.95019531  5928.39990234 15799.34960938 19597.30078125\n 18297.         11429.5         9912.84960938  5592.\n  5648.          9972.90039062  9979.70019531  4693.14990234\n  9445.40039062  5088.10009766 10477.90039062  5262.45019531\n 10912.25       16214.70019531  6694.35009766 11319.54980469\n 10093.04980469 12771.70019531 10727.34960938 10628.5\n 12048.20019531  5471.79980469  5114.14990234 11053.\n 12125.90039062  6281.79980469  5571.54980469 16983.55078125\n  8203.70019531 11244.70019531  5494.39990234 11691.95019531\n 12174.65039062 11300.54980469  5740.75       15683.34960938\n  5287.45019531  9100.79980469 18035.84960938  6074.64990234\n 17532.05078125  4944.14990234  5277.89990234  7276.79980469\n  9663.90039062 10640.95019531  5132.29980469 10741.09960938\n 10234.65039062  8381.09960938 19733.55078125  7235.64990234\n  6048.25        5486.14990234  5590.25        9136.84960938\n  5229.         18118.30078125  9126.84960938  5449.10009766\n  9311.95019531  5480.25        6694.79980469 11641.79980469\n  7860.75        6145.79980469  8879.09960938 17711.44921875\n  7351.         17576.84960938 11472.25        5368.14990234\n 13133.90039062  5889.75        5068.5        11341.70019531\n  8542.95019531  5990.5         6299.14990234 14634.15039062\n 13932.59960938  7493.20019531  5184.25       19306.05078125\n 19901.40039062  6318.89990234  8922.65039062  9316.84960938\n 19133.25       11713.20019531  8040.20019531  8660.29980469\n 18269.          5701.29980469 17764.80078125 17764.59960938\n  5215.70019531  4867.25       11346.20019531 20901.15039062\n 11895.45019531  5257.04980469 15632.09960938  6980.95019531\n 17368.25        8597.75        9084.79980469  8338.29980469\n 10326.90039062  7717.         17833.34960938  9187.29980469\n  7222.29980469  5333.25       18633.84960938  8647.75\n  4858.25        8475.75       19689.84960938  6091.45019531\n 17822.94921875 17274.30078125 10167.45019531 17206.65039062\n  6328.64990234  8564.59960938  7634.70019531  7493.35009766\n  7791.29980469  4718.64990234 12089.15039062  7741.\n  7663.89990234 11512.40039062 17117.59960938 14919.09960938\n  5676.04980469  6121.60009766  7329.64990234  9380.90039062\n  5190.60009766 11604.09960938 19632.55078125 16125.15039062\n  9261.84960938  7946.35009766 11840.45019531  5742.\n 10908.70019531  8756.75        8529.45019531  5708.04980469\n 18816.69921875  8699.95019531 17475.65039062  5542.25\n  5276.85009766  7812.         16955.44921875  5567.04980469\n  5363.45019531 17605.84960938  9616.40039062 18348.\n  5054.10009766  5199.79980469 17790.34960938 19465.\n  8706.40039062  5825.          8462.34960938  8253.79980469\n  8459.65039062  5012.54980469 16013.45019531 21349.40039062\n  5847.70019531  8570.90039062 17807.65039062  5281.79980469\n 11250.54980469  5230.10009766 16584.30078125  5483.29980469\n  6009.04980469  8111.75       10442.20019531 12045.79980469\n  6524.04980469 10685.59960938 14867.34960938 12719.95019531\n 10922.75       11707.90039062 16842.80078125  5418.29980469\n 16167.09960938  5842.          6048.5         5665.60009766\n  8756.54980469  8337.         18857.25       10242.65039062\n  4985.64990234 17176.69921875  4965.70019531  8638.5\n 11962.09960938 11829.40039062  8786.20019531  7437.79980469\n  8723.29980469  8738.09960938  7215.70019531 17754.40039062\n  5315.04980469 11101.65039062  9604.90039062  7123.14990234\n  5385.20019531 15208.90039062 19384.30078125  8744.34960938\n 18069.          9859.90039062  7721.29980469 10637.\n 18418.75       21418.65039062 18826.          7536.79980469\n 10057.40039062 18307.65039062  5220.45019531  6152.75\n  8592.15039062 16793.90039062  5746.95019531 10876.75\n  9504.09960938 10192.95019531 17339.84960938  5252.20019531\n  8102.10009766 17576.30078125  5651.35009766  5316.95019531\n 19365.25        5203.64990234 18082.84960938  4855.75\n 17094.34960938 10786.95019531  7701.70019531  8659.09960938\n  9606.90039062 10623.59960938 17353.5        10146.79980469\n  7870.14990234  9520.90039062  5654.54980469  5833.20019531\n  7911.85009766  5348.95019531 11787.15039062].\nReshape your data either using array.reshape(-1, 1) if your data has a single feature or array.reshape(1, -1) if it contains a single sample."
     ]
    }
   ],
   "source": [
    "from sklearn.linear_model import Lasso , Ridge\n",
    "\n",
    "la = Lasso().fit (x_train, y_train)\n",
    "ri = Ridge().fit(x_train, y_train)\n",
    "\n",
    "lap = la.predict(x_test)\n",
    "rip = ri.predict(y_test)\n",
    "\n"
   ]
  },
  {
   "cell_type": "code",
   "execution_count": 46,
   "id": "a75bb36c",
   "metadata": {},
   "outputs": [
    {
     "name": "stdout",
     "output_type": "stream",
     "text": [
      "5002.015068949816\n",
      "70.72492537252914\n",
      "0.9997673050914029\n"
     ]
    }
   ],
   "source": [
    "calculate_metrics(y_test, lap)"
   ]
  },
  {
   "cell_type": "code",
   "execution_count": 51,
   "id": "84dd3b48",
   "metadata": {},
   "outputs": [
    {
     "name": "stdout",
     "output_type": "stream",
     "text": [
      "Fitting 5 folds for each of 20 candidates, totalling 100 fits\n",
      "[CV 1/5] END .......C=0.1, gamma=1, kernel=rbf;, score=-0.033 total time=   0.8s\n",
      "[CV 2/5] END .......C=0.1, gamma=1, kernel=rbf;, score=-0.108 total time=   0.9s\n",
      "[CV 3/5] END .......C=0.1, gamma=1, kernel=rbf;, score=-0.076 total time=   1.1s\n",
      "[CV 4/5] END .......C=0.1, gamma=1, kernel=rbf;, score=-0.109 total time=   0.8s\n",
      "[CV 5/5] END .......C=0.1, gamma=1, kernel=rbf;, score=-0.107 total time=   1.0s\n",
      "[CV 1/5] END .....C=0.1, gamma=0.1, kernel=rbf;, score=-0.033 total time=   1.0s\n",
      "[CV 2/5] END .....C=0.1, gamma=0.1, kernel=rbf;, score=-0.108 total time=   0.9s\n",
      "[CV 3/5] END .....C=0.1, gamma=0.1, kernel=rbf;, score=-0.076 total time=   0.9s\n",
      "[CV 4/5] END .....C=0.1, gamma=0.1, kernel=rbf;, score=-0.109 total time=   1.0s\n",
      "[CV 5/5] END .....C=0.1, gamma=0.1, kernel=rbf;, score=-0.107 total time=   1.0s\n",
      "[CV 1/5] END ....C=0.1, gamma=0.01, kernel=rbf;, score=-0.033 total time=   0.9s\n",
      "[CV 2/5] END ....C=0.1, gamma=0.01, kernel=rbf;, score=-0.108 total time=   0.9s\n",
      "[CV 3/5] END ....C=0.1, gamma=0.01, kernel=rbf;, score=-0.076 total time=   0.9s\n",
      "[CV 4/5] END ....C=0.1, gamma=0.01, kernel=rbf;, score=-0.109 total time=   0.8s\n",
      "[CV 5/5] END ....C=0.1, gamma=0.01, kernel=rbf;, score=-0.107 total time=   0.9s\n",
      "[CV 1/5] END ...C=0.1, gamma=0.001, kernel=rbf;, score=-0.033 total time=   0.9s\n",
      "[CV 2/5] END ...C=0.1, gamma=0.001, kernel=rbf;, score=-0.108 total time=   0.9s\n",
      "[CV 3/5] END ...C=0.1, gamma=0.001, kernel=rbf;, score=-0.076 total time=   0.8s\n",
      "[CV 4/5] END ...C=0.1, gamma=0.001, kernel=rbf;, score=-0.109 total time=   0.8s\n",
      "[CV 5/5] END ...C=0.1, gamma=0.001, kernel=rbf;, score=-0.107 total time=   0.8s\n",
      "[CV 1/5] END ..C=0.1, gamma=0.0001, kernel=rbf;, score=-0.033 total time=   0.8s\n",
      "[CV 2/5] END ..C=0.1, gamma=0.0001, kernel=rbf;, score=-0.108 total time=   0.8s\n",
      "[CV 3/5] END ..C=0.1, gamma=0.0001, kernel=rbf;, score=-0.075 total time=   0.8s\n",
      "[CV 4/5] END ..C=0.1, gamma=0.0001, kernel=rbf;, score=-0.109 total time=   0.8s\n",
      "[CV 5/5] END ..C=0.1, gamma=0.0001, kernel=rbf;, score=-0.107 total time=   0.8s\n",
      "[CV 1/5] END .........C=1, gamma=1, kernel=rbf;, score=-0.033 total time=   0.8s\n",
      "[CV 2/5] END .........C=1, gamma=1, kernel=rbf;, score=-0.108 total time=   0.8s\n",
      "[CV 3/5] END .........C=1, gamma=1, kernel=rbf;, score=-0.076 total time=   0.8s\n",
      "[CV 4/5] END .........C=1, gamma=1, kernel=rbf;, score=-0.109 total time=   0.8s\n",
      "[CV 5/5] END .........C=1, gamma=1, kernel=rbf;, score=-0.107 total time=   0.8s\n",
      "[CV 1/5] END .......C=1, gamma=0.1, kernel=rbf;, score=-0.033 total time=   0.9s\n",
      "[CV 2/5] END .......C=1, gamma=0.1, kernel=rbf;, score=-0.108 total time=   0.8s\n",
      "[CV 3/5] END .......C=1, gamma=0.1, kernel=rbf;, score=-0.076 total time=   0.9s\n",
      "[CV 4/5] END .......C=1, gamma=0.1, kernel=rbf;, score=-0.109 total time=   0.8s\n",
      "[CV 5/5] END .......C=1, gamma=0.1, kernel=rbf;, score=-0.107 total time=   1.0s\n",
      "[CV 1/5] END ......C=1, gamma=0.01, kernel=rbf;, score=-0.033 total time=   0.9s\n",
      "[CV 2/5] END ......C=1, gamma=0.01, kernel=rbf;, score=-0.108 total time=   0.8s\n",
      "[CV 3/5] END ......C=1, gamma=0.01, kernel=rbf;, score=-0.076 total time=   0.8s\n",
      "[CV 4/5] END ......C=1, gamma=0.01, kernel=rbf;, score=-0.109 total time=   0.8s\n",
      "[CV 5/5] END ......C=1, gamma=0.01, kernel=rbf;, score=-0.107 total time=   0.8s\n",
      "[CV 1/5] END .....C=1, gamma=0.001, kernel=rbf;, score=-0.033 total time=   0.9s\n",
      "[CV 2/5] END .....C=1, gamma=0.001, kernel=rbf;, score=-0.108 total time=   0.8s\n",
      "[CV 3/5] END .....C=1, gamma=0.001, kernel=rbf;, score=-0.075 total time=   0.9s\n",
      "[CV 4/5] END .....C=1, gamma=0.001, kernel=rbf;, score=-0.109 total time=   0.9s\n",
      "[CV 5/5] END .....C=1, gamma=0.001, kernel=rbf;, score=-0.107 total time=   0.9s\n",
      "[CV 1/5] END ....C=1, gamma=0.0001, kernel=rbf;, score=-0.031 total time=   0.9s\n",
      "[CV 2/5] END ....C=1, gamma=0.0001, kernel=rbf;, score=-0.107 total time=   0.9s\n",
      "[CV 3/5] END ....C=1, gamma=0.0001, kernel=rbf;, score=-0.074 total time=   0.9s\n",
      "[CV 4/5] END ....C=1, gamma=0.0001, kernel=rbf;, score=-0.107 total time=   0.8s\n",
      "[CV 5/5] END ....C=1, gamma=0.0001, kernel=rbf;, score=-0.106 total time=   0.8s\n",
      "[CV 1/5] END .......C=100, gamma=1, kernel=rbf;, score=-0.033 total time=   0.8s\n",
      "[CV 2/5] END .......C=100, gamma=1, kernel=rbf;, score=-0.106 total time=   0.9s\n",
      "[CV 3/5] END .......C=100, gamma=1, kernel=rbf;, score=-0.075 total time=   0.8s\n",
      "[CV 4/5] END .......C=100, gamma=1, kernel=rbf;, score=-0.108 total time=   0.9s\n",
      "[CV 5/5] END .......C=100, gamma=1, kernel=rbf;, score=-0.108 total time=   1.1s\n",
      "[CV 1/5] END .....C=100, gamma=0.1, kernel=rbf;, score=-0.033 total time=   0.8s\n",
      "[CV 2/5] END .....C=100, gamma=0.1, kernel=rbf;, score=-0.106 total time=   0.8s\n",
      "[CV 3/5] END .....C=100, gamma=0.1, kernel=rbf;, score=-0.075 total time=   0.8s\n",
      "[CV 4/5] END .....C=100, gamma=0.1, kernel=rbf;, score=-0.108 total time=   0.8s\n",
      "[CV 5/5] END .....C=100, gamma=0.1, kernel=rbf;, score=-0.108 total time=   0.8s\n",
      "[CV 1/5] END ....C=100, gamma=0.01, kernel=rbf;, score=-0.032 total time=   0.8s\n",
      "[CV 2/5] END ....C=100, gamma=0.01, kernel=rbf;, score=-0.106 total time=   0.9s\n",
      "[CV 3/5] END ....C=100, gamma=0.01, kernel=rbf;, score=-0.074 total time=   0.8s\n",
      "[CV 4/5] END ....C=100, gamma=0.01, kernel=rbf;, score=-0.107 total time=   0.8s\n",
      "[CV 5/5] END ....C=100, gamma=0.01, kernel=rbf;, score=-0.107 total time=   0.8s\n",
      "[CV 1/5] END ...C=100, gamma=0.001, kernel=rbf;, score=-0.010 total time=   0.8s\n",
      "[CV 2/5] END ...C=100, gamma=0.001, kernel=rbf;, score=-0.088 total time=   0.8s\n",
      "[CV 3/5] END ...C=100, gamma=0.001, kernel=rbf;, score=-0.056 total time=   0.8s\n",
      "[CV 4/5] END ...C=100, gamma=0.001, kernel=rbf;, score=-0.088 total time=   0.8s\n",
      "[CV 5/5] END ...C=100, gamma=0.001, kernel=rbf;, score=-0.089 total time=   0.8s\n",
      "[CV 1/5] END ...C=100, gamma=0.0001, kernel=rbf;, score=0.100 total time=   0.8s\n",
      "[CV 2/5] END ..C=100, gamma=0.0001, kernel=rbf;, score=-0.002 total time=   0.8s\n",
      "[CV 3/5] END ...C=100, gamma=0.0001, kernel=rbf;, score=0.045 total time=   0.8s\n",
      "[CV 4/5] END ...C=100, gamma=0.0001, kernel=rbf;, score=0.006 total time=   0.8s\n",
      "[CV 5/5] END ..C=100, gamma=0.0001, kernel=rbf;, score=-0.006 total time=   0.8s\n",
      "[CV 1/5] END ......C=1000, gamma=1, kernel=rbf;, score=-0.016 total time=   0.8s\n",
      "[CV 2/5] END ......C=1000, gamma=1, kernel=rbf;, score=-0.075 total time=   0.8s\n",
      "[CV 3/5] END ......C=1000, gamma=1, kernel=rbf;, score=-0.049 total time=   0.8s\n",
      "[CV 4/5] END ......C=1000, gamma=1, kernel=rbf;, score=-0.077 total time=   0.8s\n",
      "[CV 5/5] END ......C=1000, gamma=1, kernel=rbf;, score=-0.077 total time=   0.8s\n",
      "[CV 1/5] END ....C=1000, gamma=0.1, kernel=rbf;, score=-0.016 total time=   0.8s\n",
      "[CV 2/5] END ....C=1000, gamma=0.1, kernel=rbf;, score=-0.075 total time=   0.8s\n",
      "[CV 3/5] END ....C=1000, gamma=0.1, kernel=rbf;, score=-0.048 total time=   0.8s\n",
      "[CV 4/5] END ....C=1000, gamma=0.1, kernel=rbf;, score=-0.077 total time=   0.8s\n",
      "[CV 5/5] END ....C=1000, gamma=0.1, kernel=rbf;, score=-0.077 total time=   0.8s\n",
      "[CV 1/5] END ...C=1000, gamma=0.01, kernel=rbf;, score=-0.008 total time=   0.8s\n",
      "[CV 2/5] END ...C=1000, gamma=0.01, kernel=rbf;, score=-0.069 total time=   0.8s\n",
      "[CV 3/5] END ...C=1000, gamma=0.01, kernel=rbf;, score=-0.042 total time=   0.8s\n",
      "[CV 4/5] END ...C=1000, gamma=0.01, kernel=rbf;, score=-0.067 total time=   0.8s\n",
      "[CV 5/5] END ...C=1000, gamma=0.01, kernel=rbf;, score=-0.069 total time=   0.8s\n",
      "[CV 1/5] END ...C=1000, gamma=0.001, kernel=rbf;, score=0.122 total time=   0.9s\n",
      "[CV 2/5] END ...C=1000, gamma=0.001, kernel=rbf;, score=0.045 total time=   0.8s\n",
      "[CV 3/5] END ...C=1000, gamma=0.001, kernel=rbf;, score=0.081 total time=   0.8s\n",
      "[CV 4/5] END ...C=1000, gamma=0.001, kernel=rbf;, score=0.052 total time=   0.8s\n",
      "[CV 5/5] END ...C=1000, gamma=0.001, kernel=rbf;, score=0.039 total time=   0.8s\n",
      "[CV 1/5] END ..C=1000, gamma=0.0001, kernel=rbf;, score=0.267 total time=   0.9s\n",
      "[CV 2/5] END ..C=1000, gamma=0.0001, kernel=rbf;, score=0.208 total time=   0.9s\n",
      "[CV 3/5] END ..C=1000, gamma=0.0001, kernel=rbf;, score=0.252 total time=   0.8s\n",
      "[CV 4/5] END ..C=1000, gamma=0.0001, kernel=rbf;, score=0.228 total time=   0.8s\n",
      "[CV 5/5] END ..C=1000, gamma=0.0001, kernel=rbf;, score=0.207 total time=   0.9s\n"
     ]
    },
    {
     "data": {
      "text/html": [
       "<style>#sk-container-id-1 {color: black;}#sk-container-id-1 pre{padding: 0;}#sk-container-id-1 div.sk-toggleable {background-color: white;}#sk-container-id-1 label.sk-toggleable__label {cursor: pointer;display: block;width: 100%;margin-bottom: 0;padding: 0.3em;box-sizing: border-box;text-align: center;}#sk-container-id-1 label.sk-toggleable__label-arrow:before {content: \"▸\";float: left;margin-right: 0.25em;color: #696969;}#sk-container-id-1 label.sk-toggleable__label-arrow:hover:before {color: black;}#sk-container-id-1 div.sk-estimator:hover label.sk-toggleable__label-arrow:before {color: black;}#sk-container-id-1 div.sk-toggleable__content {max-height: 0;max-width: 0;overflow: hidden;text-align: left;background-color: #f0f8ff;}#sk-container-id-1 div.sk-toggleable__content pre {margin: 0.2em;color: black;border-radius: 0.25em;background-color: #f0f8ff;}#sk-container-id-1 input.sk-toggleable__control:checked~div.sk-toggleable__content {max-height: 200px;max-width: 100%;overflow: auto;}#sk-container-id-1 input.sk-toggleable__control:checked~label.sk-toggleable__label-arrow:before {content: \"▾\";}#sk-container-id-1 div.sk-estimator input.sk-toggleable__control:checked~label.sk-toggleable__label {background-color: #d4ebff;}#sk-container-id-1 div.sk-label input.sk-toggleable__control:checked~label.sk-toggleable__label {background-color: #d4ebff;}#sk-container-id-1 input.sk-hidden--visually {border: 0;clip: rect(1px 1px 1px 1px);clip: rect(1px, 1px, 1px, 1px);height: 1px;margin: -1px;overflow: hidden;padding: 0;position: absolute;width: 1px;}#sk-container-id-1 div.sk-estimator {font-family: monospace;background-color: #f0f8ff;border: 1px dotted black;border-radius: 0.25em;box-sizing: border-box;margin-bottom: 0.5em;}#sk-container-id-1 div.sk-estimator:hover {background-color: #d4ebff;}#sk-container-id-1 div.sk-parallel-item::after {content: \"\";width: 100%;border-bottom: 1px solid gray;flex-grow: 1;}#sk-container-id-1 div.sk-label:hover label.sk-toggleable__label {background-color: #d4ebff;}#sk-container-id-1 div.sk-serial::before {content: \"\";position: absolute;border-left: 1px solid gray;box-sizing: border-box;top: 0;bottom: 0;left: 50%;z-index: 0;}#sk-container-id-1 div.sk-serial {display: flex;flex-direction: column;align-items: center;background-color: white;padding-right: 0.2em;padding-left: 0.2em;position: relative;}#sk-container-id-1 div.sk-item {position: relative;z-index: 1;}#sk-container-id-1 div.sk-parallel {display: flex;align-items: stretch;justify-content: center;background-color: white;position: relative;}#sk-container-id-1 div.sk-item::before, #sk-container-id-1 div.sk-parallel-item::before {content: \"\";position: absolute;border-left: 1px solid gray;box-sizing: border-box;top: 0;bottom: 0;left: 50%;z-index: -1;}#sk-container-id-1 div.sk-parallel-item {display: flex;flex-direction: column;z-index: 1;position: relative;background-color: white;}#sk-container-id-1 div.sk-parallel-item:first-child::after {align-self: flex-end;width: 50%;}#sk-container-id-1 div.sk-parallel-item:last-child::after {align-self: flex-start;width: 50%;}#sk-container-id-1 div.sk-parallel-item:only-child::after {width: 0;}#sk-container-id-1 div.sk-dashed-wrapped {border: 1px dashed gray;margin: 0 0.4em 0.5em 0.4em;box-sizing: border-box;padding-bottom: 0.4em;background-color: white;}#sk-container-id-1 div.sk-label label {font-family: monospace;font-weight: bold;display: inline-block;line-height: 1.2em;}#sk-container-id-1 div.sk-label-container {text-align: center;}#sk-container-id-1 div.sk-container {/* jupyter's `normalize.less` sets `[hidden] { display: none; }` but bootstrap.min.css set `[hidden] { display: none !important; }` so we also need the `!important` here to be able to override the default hidden behavior on the sphinx rendered scikit-learn.org. See: https://github.com/scikit-learn/scikit-learn/issues/21755 */display: inline-block !important;position: relative;}#sk-container-id-1 div.sk-text-repr-fallback {display: none;}</style><div id=\"sk-container-id-1\" class=\"sk-top-container\"><div class=\"sk-text-repr-fallback\"><pre>GridSearchCV(estimator=SVR(),\n",
       "             param_grid={&#x27;C&#x27;: [0.1, 1, 100, 1000],\n",
       "                         &#x27;gamma&#x27;: [1, 0.1, 0.01, 0.001, 0.0001],\n",
       "                         &#x27;kernel&#x27;: [&#x27;rbf&#x27;]},\n",
       "             verbose=3)</pre><b>In a Jupyter environment, please rerun this cell to show the HTML representation or trust the notebook. <br />On GitHub, the HTML representation is unable to render, please try loading this page with nbviewer.org.</b></div><div class=\"sk-container\" hidden><div class=\"sk-item sk-dashed-wrapped\"><div class=\"sk-label-container\"><div class=\"sk-label sk-toggleable\"><input class=\"sk-toggleable__control sk-hidden--visually\" id=\"sk-estimator-id-1\" type=\"checkbox\" ><label for=\"sk-estimator-id-1\" class=\"sk-toggleable__label sk-toggleable__label-arrow\">GridSearchCV</label><div class=\"sk-toggleable__content\"><pre>GridSearchCV(estimator=SVR(),\n",
       "             param_grid={&#x27;C&#x27;: [0.1, 1, 100, 1000],\n",
       "                         &#x27;gamma&#x27;: [1, 0.1, 0.01, 0.001, 0.0001],\n",
       "                         &#x27;kernel&#x27;: [&#x27;rbf&#x27;]},\n",
       "             verbose=3)</pre></div></div></div><div class=\"sk-parallel\"><div class=\"sk-parallel-item\"><div class=\"sk-item\"><div class=\"sk-label-container\"><div class=\"sk-label sk-toggleable\"><input class=\"sk-toggleable__control sk-hidden--visually\" id=\"sk-estimator-id-2\" type=\"checkbox\" ><label for=\"sk-estimator-id-2\" class=\"sk-toggleable__label sk-toggleable__label-arrow\">estimator: SVR</label><div class=\"sk-toggleable__content\"><pre>SVR()</pre></div></div></div><div class=\"sk-serial\"><div class=\"sk-item\"><div class=\"sk-estimator sk-toggleable\"><input class=\"sk-toggleable__control sk-hidden--visually\" id=\"sk-estimator-id-3\" type=\"checkbox\" ><label for=\"sk-estimator-id-3\" class=\"sk-toggleable__label sk-toggleable__label-arrow\">SVR</label><div class=\"sk-toggleable__content\"><pre>SVR()</pre></div></div></div></div></div></div></div></div></div></div>"
      ],
      "text/plain": [
       "GridSearchCV(estimator=SVR(),\n",
       "             param_grid={'C': [0.1, 1, 100, 1000],\n",
       "                         'gamma': [1, 0.1, 0.01, 0.001, 0.0001],\n",
       "                         'kernel': ['rbf']},\n",
       "             verbose=3)"
      ]
     },
     "execution_count": 51,
     "metadata": {},
     "output_type": "execute_result"
    }
   ],
   "source": [
    "from sklearn.svm import SVR\n",
    "from sklearn.model_selection import GridSearchCV\n",
    "\n",
    "svr = SVR()\n",
    "\n",
    "param_grid = {'C':[0.1, 1, 100, 1000],\n",
    "              'gamma':[1,0.1,0.01, 0.001, 0.0001],\n",
    "              'kernel' : ['rbf']\n",
    "             \n",
    "             }\n",
    "grid = GridSearchCV(svr, param_grid, refit= True, verbose = 3)\n",
    "grid.fit(x_train, y_train)\n"
   ]
  },
  {
   "cell_type": "code",
   "execution_count": 55,
   "id": "2f523223",
   "metadata": {},
   "outputs": [],
   "source": [
    "svr = SVR(C=10, gamma = 0.01, kernel = 'rbf')\n",
    "svr.fit(x_train, y_train)\n",
    "svr_pred= svr.predict(x_test)"
   ]
  },
  {
   "cell_type": "code",
   "execution_count": 57,
   "id": "ac55a84f",
   "metadata": {},
   "outputs": [],
   "source": [
    "import joblib\n",
    "\n",
    "joblib.dump(ri, 'model.pkl')\n",
    "ridge_from_joblib = model = joblib.load(\"model.pkl\")\n"
   ]
  },
  {
   "cell_type": "code",
   "execution_count": null,
   "id": "b7304489",
   "metadata": {},
   "outputs": [],
   "source": []
  }
 ],
 "metadata": {
  "kernelspec": {
   "display_name": "Python 3 (ipykernel)",
   "language": "python",
   "name": "python3"
  },
  "language_info": {
   "codemirror_mode": {
    "name": "ipython",
    "version": 3
   },
   "file_extension": ".py",
   "mimetype": "text/x-python",
   "name": "python",
   "nbconvert_exporter": "python",
   "pygments_lexer": "ipython3",
   "version": "3.11.5"
  }
 },
 "nbformat": 4,
 "nbformat_minor": 5
}
